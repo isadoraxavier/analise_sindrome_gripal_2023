{
 "cells": [
  {
   "cell_type": "markdown",
   "id": "9fb0e7d1",
   "metadata": {},
   "source": [
    "# Análise de Dados do SUS\n",
    "\n",
    "Projeto de análise de dados da Síndrome gripal no ano de 2023, em todos os estados. O projeto foi proposto no #DataGlowUp 32 do Heitor Sasaki. Foram selecionadas as bibliotecas de selenium para automatizar a captura dos dados. Ao rodar o código, é possível pegar os dados mais recentes disponibilizados pelos dados abertos do SUS. "
   ]
  },
  {
   "cell_type": "code",
   "execution_count": null,
   "id": "1c7d1d99",
   "metadata": {},
   "outputs": [],
   "source": [
    "#Instalando o Selenium\n",
    "\n",
    "!pip install -q selenium"
   ]
  },
  {
   "cell_type": "code",
   "execution_count": 5,
   "id": "f619fac1",
   "metadata": {},
   "outputs": [],
   "source": [
    "#instalando o webdriver manager\n",
    "\n",
    "!pip install -q webdriver-manager"
   ]
  },
  {
   "cell_type": "code",
   "execution_count": 7,
   "id": "8cdc8559",
   "metadata": {},
   "outputs": [],
   "source": [
    "#importanto o selenium\n",
    "from selenium import webdriver \n",
    "from webdriver_manager.chrome import ChromeDriverManager\n",
    "from selenium.webdriver.chrome.service import Service"
   ]
  },
  {
   "cell_type": "code",
   "execution_count": 11,
   "id": "b7a7ca0c",
   "metadata": {},
   "outputs": [],
   "source": [
    "# Definindo o diretório de download\n",
    "options = webdriver.ChromeOptions()\n",
    "options.add_argument(\"download.default_directory=/Users/Computador/Documents/DataGlowUp/DGU 32\")"
   ]
  },
  {
   "cell_type": "code",
   "execution_count": 14,
   "id": "e0f09913",
   "metadata": {},
   "outputs": [],
   "source": [
    "#trazendo a versao mais recente do Chrome\n",
    "servico = Service(ChromeDriverManager().install())\n",
    "\n",
    "#passando o servico para o chrome\n",
    "navegador = webdriver.Chrome(service=servico, options=options)"
   ]
  },
  {
   "cell_type": "markdown",
   "id": "e5207b02",
   "metadata": {},
   "source": [
    "# Selecionando as páginas \n",
    "Selecionando as páginas separadamente para poder juntas os dados após. Método de navegação.get para poder pegar cada arquivo no link . No total, são 28 estados. Esse formato é eficiente pois conseguimos ver o que já foi baixado e de qual estado é qual arquivo."
   ]
  },
  {
   "cell_type": "code",
   "execution_count": 15,
   "id": "2bb99144",
   "metadata": {},
   "outputs": [],
   "source": [
    "#navegando para uma página especifica - AC\n",
    "navegador.get(\"https://opendatasus.saude.gov.br/dataset/notificacoes-de-sindrome-gripal-leve-2023/resource/a79353a4-89d2-4915-bbcc-79ef8c429403\")\n",
    "\n",
    "#Clicando no elemento para fazer o download\n",
    "navegador.find_element('xpath','//*[@id=\"content\"]/div[3]/section/div/div[2]/ul/li/a').click()"
   ]
  },
  {
   "cell_type": "code",
   "execution_count": 16,
   "id": "333320fe",
   "metadata": {},
   "outputs": [],
   "source": [
    "#navegando para uma página especifica - AL \n",
    "navegador.get(\"https://opendatasus.saude.gov.br/dataset/notificacoes-de-sindrome-gripal-leve-2023/resource/87f0f19a-90a7-478c-b67c-b92dd73f4731?inner_span=True\")\n",
    "\n",
    "#Clicando no elemento para fazer o download\n",
    "navegador.find_element('xpath','//*[@id=\"content\"]/div[3]/section/div/div[2]/ul/li/a').click()"
   ]
  },
  {
   "cell_type": "code",
   "execution_count": 17,
   "id": "8b3c3974",
   "metadata": {},
   "outputs": [],
   "source": [
    "#navegando para uma página especifica - AM \n",
    "navegador.get(\"https://opendatasus.saude.gov.br/dataset/notificacoes-de-sindrome-gripal-leve-2023/resource/f7ee3dd8-03c4-4f70-af8a-2ed7f15a4203?inner_span=True\")\n",
    "\n",
    "#Clicando no elemento para fazer o download\n",
    "navegador.find_element('xpath','//*[@id=\"content\"]/div[3]/section/div/div[2]/ul/li/a').click()"
   ]
  },
  {
   "cell_type": "code",
   "execution_count": 18,
   "id": "ca02f0f7",
   "metadata": {},
   "outputs": [],
   "source": [
    "#navegando para uma página especifica - AP \n",
    "navegador.get(\"https://opendatasus.saude.gov.br/dataset/notificacoes-de-sindrome-gripal-leve-2023/resource/2d4c3725-c3f4-4cf2-a6da-71fccd66fb4a?inner_span=True\")\n",
    "\n",
    "#Clicando no elemento para fazer o download\n",
    "navegador.find_element('xpath','//*[@id=\"content\"]/div[3]/section/div/div[2]/ul/li/a').click()"
   ]
  },
  {
   "cell_type": "code",
   "execution_count": 19,
   "id": "c80a1d76",
   "metadata": {},
   "outputs": [],
   "source": [
    "#navegando para uma página especifica - BA \n",
    "navegador.get(\"https://opendatasus.saude.gov.br/dataset/notificacoes-de-sindrome-gripal-leve-2023/resource/d1d50788-5a30-4962-a4f7-ad9661a5d834?inner_span=True\")\n",
    "\n",
    "#Clicando no elemento para fazer o download\n",
    "navegador.find_element('xpath','//*[@id=\"content\"]/div[3]/section/div/div[2]/ul/li/a').click()"
   ]
  },
  {
   "cell_type": "code",
   "execution_count": 20,
   "id": "3f92e599",
   "metadata": {},
   "outputs": [],
   "source": [
    "#navegando para uma página especifica - CE\n",
    "navegador.get(\"https://opendatasus.saude.gov.br/dataset/notificacoes-de-sindrome-gripal-leve-2023/resource/a57c6127-0bb9-48c4-9630-12483db0c88e?inner_span=True\")\n",
    "\n",
    "#Clicando no elemento para fazer o download\n",
    "navegador.find_element('xpath','//*[@id=\"content\"]/div[3]/section/div/div[2]/ul/li/a').click()"
   ]
  },
  {
   "cell_type": "code",
   "execution_count": 21,
   "id": "d69771d6",
   "metadata": {},
   "outputs": [],
   "source": [
    "#navegando para uma página especifica - DF\n",
    "navegador.get(\"https://opendatasus.saude.gov.br/dataset/notificacoes-de-sindrome-gripal-leve-2023/resource/85f89277-c1ac-45f3-99e9-a37707e97dd2?inner_span=True\")\n",
    "\n",
    "#Clicando no elemento para fazer o download\n",
    "navegador.find_element('xpath','//*[@id=\"content\"]/div[3]/section/div/div[2]/ul/li/a').click()"
   ]
  },
  {
   "cell_type": "code",
   "execution_count": 22,
   "id": "0c20f61e",
   "metadata": {},
   "outputs": [],
   "source": [
    "#navegando para uma página especifica - ES\n",
    "navegador.get(\"https://opendatasus.saude.gov.br/dataset/notificacoes-de-sindrome-gripal-leve-2023/resource/db7650e6-21b1-4aa3-892d-e2a485f50328?inner_span=True\")\n",
    "\n",
    "#Clicando no elemento para fazer o download\n",
    "navegador.find_element('xpath','//*[@id=\"content\"]/div[3]/section/div/div[2]/ul/li/a').click()"
   ]
  },
  {
   "cell_type": "code",
   "execution_count": 23,
   "id": "deb1f29d",
   "metadata": {},
   "outputs": [],
   "source": [
    "#navegando para uma página especifica - GO\n",
    "navegador.get(\"https://opendatasus.saude.gov.br/dataset/notificacoes-de-sindrome-gripal-leve-2023/resource/973d1b0f-144b-4237-922b-50be6ca0cf02?inner_span=True\")\n",
    "\n",
    "#Clicando no elemento para fazer o download\n",
    "navegador.find_element('xpath','//*[@id=\"content\"]/div[3]/section/div/div[2]/ul/li/a').click()"
   ]
  },
  {
   "cell_type": "code",
   "execution_count": 24,
   "id": "a4063539",
   "metadata": {},
   "outputs": [],
   "source": [
    "#navegando para uma página especifica - MA\n",
    "navegador.get(\"https://opendatasus.saude.gov.br/dataset/notificacoes-de-sindrome-gripal-leve-2023/resource/30867102-c956-4b7f-b5d0-227edc34ef1c?inner_span=True\")\n",
    "\n",
    "#Clicando no elemento para fazer o download\n",
    "navegador.find_element('xpath','//*[@id=\"content\"]/div[3]/section/div/div[2]/ul/li/a').click()"
   ]
  },
  {
   "cell_type": "code",
   "execution_count": 25,
   "id": "f805d588",
   "metadata": {},
   "outputs": [],
   "source": [
    "#navegando para uma página especifica - MG\n",
    "navegador.get(\"https://opendatasus.saude.gov.br/dataset/notificacoes-de-sindrome-gripal-leve-2023/resource/49c7881b-0fa8-4bd9-a603-e67b8f705c89?inner_span=True\")\n",
    "\n",
    "#Clicando no elemento para fazer o download\n",
    "navegador.find_element('xpath','//*[@id=\"content\"]/div[3]/section/div/div[2]/ul/li/a').click()"
   ]
  },
  {
   "cell_type": "code",
   "execution_count": null,
   "id": "553e2dd9",
   "metadata": {},
   "outputs": [],
   "source": [
    "#navegando para uma página especifica - MS\n",
    "navegador.get(\"https://opendatasus.saude.gov.br/dataset/notificacoes-de-sindrome-gripal-leve-2023/resource/bd3f0120-271a-46e4-946e-2e602d232cdf?inner_span=True\")\n",
    "\n",
    "#Clicando no elemento para fazer o download\n",
    "navegador.find_element('xpath','//*[@id=\"content\"]/div[3]/section/div/div[2]/ul/li/a').click()"
   ]
  },
  {
   "cell_type": "code",
   "execution_count": null,
   "id": "456d88d3",
   "metadata": {},
   "outputs": [],
   "source": [
    "#navegando para uma página especifica - MT\n",
    "navegador.get(\"https://opendatasus.saude.gov.br/dataset/notificacoes-de-sindrome-gripal-leve-2023/resource/232ca158-8c5d-409f-9f60-5d62657becb0?inner_span=True\")\n",
    "\n",
    "#Clicando no elemento para fazer o download\n",
    "navegador.find_element('xpath','//*[@id=\"content\"]/div[3]/section/div/div[2]/ul/li/a').click()"
   ]
  },
  {
   "cell_type": "code",
   "execution_count": null,
   "id": "eee00565",
   "metadata": {},
   "outputs": [],
   "source": [
    "#navegando para uma página especifica - Uf não identificada\n",
    "navegador.get(\"https://opendatasus.saude.gov.br/dataset/notificacoes-de-sindrome-gripal-leve-2023/resource/85f89277-c1ac-45f3-99e9-a37707e97dd2?inner_span=True\")\n",
    "\n",
    "#Clicando no elemento para fazer o download\n",
    "navegador.find_element('xpath','//*[@id=\"content\"]/div[3]/section/div/div[2]/ul/li/a').click()"
   ]
  },
  {
   "cell_type": "code",
   "execution_count": null,
   "id": "5b9b2379",
   "metadata": {},
   "outputs": [],
   "source": [
    "#navegando para uma página especifica - PA\n",
    "navegador.get(\"https://opendatasus.saude.gov.br/dataset/notificacoes-de-sindrome-gripal-leve-2023/resource/13040f22-ff26-4d82-b533-80032af7195f?inner_span=True\")\n",
    "\n",
    "#Clicando no elemento para fazer o download\n",
    "navegador.find_element('xpath','//*[@id=\"content\"]/div[3]/section/div/div[2]/ul/li/a').click()"
   ]
  },
  {
   "cell_type": "code",
   "execution_count": null,
   "id": "3ad3d706",
   "metadata": {},
   "outputs": [],
   "source": [
    "#navegando para uma página especifica - PB\n",
    "navegador.get(\"https://opendatasus.saude.gov.br/dataset/notificacoes-de-sindrome-gripal-leve-2023/resource/1fade1e3-e017-4dd7-954a-7d21a875ff2a?inner_span=True\")\n",
    "\n",
    "#Clicando no elemento para fazer o download\n",
    "navegador.find_element('xpath','//*[@id=\"content\"]/div[3]/section/div/div[2]/ul/li/a').click()"
   ]
  },
  {
   "cell_type": "code",
   "execution_count": null,
   "id": "bb44a8e5",
   "metadata": {},
   "outputs": [],
   "source": [
    "#navegando para uma página especifica - PE\n",
    "navegador.get(\"https://opendatasus.saude.gov.br/dataset/notificacoes-de-sindrome-gripal-leve-2023/resource/13040f22-ff26-4d82-b533-80032af7195f?inner_span=True\")\n",
    "\n",
    "#Clicando no elemento para fazer o download\n",
    "navegador.find_element('xpath','//*[@id=\"content\"]/div[3]/section/div/div[2]/ul/li/a').click()"
   ]
  },
  {
   "cell_type": "code",
   "execution_count": null,
   "id": "3ee16e28",
   "metadata": {},
   "outputs": [],
   "source": [
    "#navegando para uma página especifica - PA\n",
    "navegador.get(\"https://opendatasus.saude.gov.br/dataset/notificacoes-de-sindrome-gripal-leve-2023/resource/13040f22-ff26-4d82-b533-80032af7195f?inner_span=True\")\n",
    "\n",
    "#Clicando no elemento para fazer o download\n",
    "navegador.find_element('xpath','//*[@id=\"content\"]/div[3]/section/div/div[2]/ul/li/a').click()"
   ]
  },
  {
   "cell_type": "code",
   "execution_count": null,
   "id": "71de2f02",
   "metadata": {},
   "outputs": [],
   "source": [
    "#navegando para uma página especifica - PA\n",
    "navegador.get(\"https://opendatasus.saude.gov.br/dataset/notificacoes-de-sindrome-gripal-leve-2023/resource/13040f22-ff26-4d82-b533-80032af7195f?inner_span=True\")\n",
    "\n",
    "#Clicando no elemento para fazer o download\n",
    "navegador.find_element('xpath','//*[@id=\"content\"]/div[3]/section/div/div[2]/ul/li/a').click()"
   ]
  },
  {
   "cell_type": "code",
   "execution_count": null,
   "id": "066c92ee",
   "metadata": {},
   "outputs": [],
   "source": [
    "#navegando para uma página especifica - PA\n",
    "navegador.get(\"https://opendatasus.saude.gov.br/dataset/notificacoes-de-sindrome-gripal-leve-2023/resource/13040f22-ff26-4d82-b533-80032af7195f?inner_span=True\")\n",
    "\n",
    "#Clicando no elemento para fazer o download\n",
    "navegador.find_element('xpath','//*[@id=\"content\"]/div[3]/section/div/div[2]/ul/li/a').click()"
   ]
  },
  {
   "cell_type": "code",
   "execution_count": null,
   "id": "0c7e43c2",
   "metadata": {},
   "outputs": [],
   "source": [
    "#navegando para uma página especifica - PA\n",
    "navegador.get(\"https://opendatasus.saude.gov.br/dataset/notificacoes-de-sindrome-gripal-leve-2023/resource/13040f22-ff26-4d82-b533-80032af7195f?inner_span=True\")\n",
    "\n",
    "#Clicando no elemento para fazer o download\n",
    "navegador.find_element('xpath','//*[@id=\"content\"]/div[3]/section/div/div[2]/ul/li/a').click()"
   ]
  }
 ],
 "metadata": {
  "kernelspec": {
   "display_name": "Python 3 (ipykernel)",
   "language": "python",
   "name": "python3"
  },
  "language_info": {
   "codemirror_mode": {
    "name": "ipython",
    "version": 3
   },
   "file_extension": ".py",
   "mimetype": "text/x-python",
   "name": "python",
   "nbconvert_exporter": "python",
   "pygments_lexer": "ipython3",
   "version": "3.11.5"
  }
 },
 "nbformat": 4,
 "nbformat_minor": 5
}
