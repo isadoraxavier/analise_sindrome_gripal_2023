{
 "cells": [
  {
   "cell_type": "markdown",
   "id": "9fb0e7d1",
   "metadata": {},
   "source": [
    "# Análise de Dados do SUS\n",
    "\n",
    "Projeto de análise de dados da Síndrome gripal no ano de 2023, em todos os estados. O projeto foi proposto no #DataGlowUp 32 do Heitor Sasaki. Foram selecionadas as bibliotecas de selenium para automatizar a captura dos dados. Ao rodar o código, é possível pegar os dados mais recentes disponibilizados pelos dados abertos do SUS, entretando é importante ressaltar que o link muda conforme a atualização. \n",
    "\n",
    "Foram selecionados 1 estado de cada região, totalizando 5 estados analizados nesse documento.A escolha foi feita de forma aleatória e foram escolhido os estados para que a análise não ficasse tão pesada para rodar nesse documento. "
   ]
  },
  {
   "cell_type": "code",
   "execution_count": null,
   "id": "43a074d9",
   "metadata": {},
   "outputs": [],
   "source": [
    "# Importando as bibliotecas necessárias\n",
    "from selenium import webdriver \n",
    "from webdriver_manager.chrome import ChromeDriverManager\n",
    "from selenium.webdriver.chrome.service import Service\n",
    "import time\n",
    "import pandas as pd\n",
    "import numpy as np"
   ]
  },
  {
   "cell_type": "code",
   "execution_count": null,
   "id": "3ff44869",
   "metadata": {},
   "outputs": [],
   "source": [
    "# Lista de URLs dos estados\n",
    "urls = [\n",
    "    \"https://opendatasus.saude.gov.br/dataset/notificacoes-de-sindrome-gripal-leve-2023/resource/6990ce86-cbb0-4d7f-ae48-5304c234badf\", # Amazonas\n",
    "    \"https://opendatasus.saude.gov.br/dataset/notificacoes-de-sindrome-gripal-leve-2023/resource/6941f98e-6d0d-42d7-9fd4-3294f6097f51\", # Ceará\n",
    "    \"https://opendatasus.saude.gov.br/dataset/notificacoes-de-sindrome-gripal-leve-2023/resource/e281b284-b7de-477c-a221-ed8d951803f8\", # DF\n",
    "    \"https://opendatasus.saude.gov.br/dataset/notificacoes-de-sindrome-gripal-leve-2023/resource/153e9329-5085-4fa2-b418-02a32ccc59c5\", # MG\n",
    "    \"https://opendatasus.saude.gov.br/dataset/notificacoes-de-sindrome-gripal-leve-2023/resource/975cfdb2-f2e6-4c0d-84d1-be814a362ade?inner_span=True\" # Paraná\n",
    "]"
   ]
  },
  {
   "cell_type": "code",
   "execution_count": null,
   "id": "f4bf8a3c",
   "metadata": {},
   "outputs": [],
   "source": [
    "# Configurações do navegador para download\n",
    "options = webdriver.ChromeOptions()\n",
    "options.add_argument(\"download.default_directory=/Users/Computador/Documents/DataGlowUp/DGU 32\")\n"
   ]
  },
  {
   "cell_type": "code",
   "execution_count": null,
   "id": "89cd56d0",
   "metadata": {},
   "outputs": [],
   "source": [
    "# Configuração do serviço do Chrome\n",
    "servico = Service(ChromeDriverManager().install())"
   ]
  },
  {
   "cell_type": "code",
   "execution_count": null,
   "id": "5dae2338",
   "metadata": {},
   "outputs": [],
   "source": [
    "# Inicializando o navegador\n",
    "navegador = webdriver.Chrome(service=servico, options=options)"
   ]
  },
  {
   "cell_type": "code",
   "execution_count": null,
   "id": "6bad64f6",
   "metadata": {},
   "outputs": [],
   "source": [
    "# Loop através das URLs dos estados\n",
    "for url in urls:\n",
    "    # Navegando para a página do estado\n",
    "    navegador.get(url)\n",
    "    time.sleep(10)  # Aguarda 10 segundos para garantir que a página foi carregada\n",
    "    \n",
    "    # Clicando no elemento para fazer o download\n",
    "    navegador.find_element('xpath','//*[@id=\"content\"]/div[3]/section/div/div[2]/ul/li/a').click()\n",
    "    time.sleep(180)  # Aguarda 3 minutos para o download completar"
   ]
  },
  {
   "cell_type": "code",
   "execution_count": null,
   "id": "f522fab0",
   "metadata": {},
   "outputs": [],
   "source": [
    "# Fechando o navegador após o download de todos os estados\n",
    "navegador.quit()"
   ]
  }
 ],
 "metadata": {
  "kernelspec": {
   "display_name": "Python 3 (ipykernel)",
   "language": "python",
   "name": "python3"
  },
  "language_info": {
   "codemirror_mode": {
    "name": "ipython",
    "version": 3
   },
   "file_extension": ".py",
   "mimetype": "text/x-python",
   "name": "python",
   "nbconvert_exporter": "python",
   "pygments_lexer": "ipython3",
   "version": "3.11.5"
  }
 },
 "nbformat": 4,
 "nbformat_minor": 5
}
